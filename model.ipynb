{
 "cells": [
  {
   "cell_type": "code",
   "execution_count": 1,
   "id": "820baf4c",
   "metadata": {},
   "outputs": [],
   "source": [
    "import tensorflow as tf"
   ]
  },
  {
   "cell_type": "code",
   "execution_count": 2,
   "id": "110e6bca",
   "metadata": {},
   "outputs": [],
   "source": [
    "import os\n",
    "import numpy as np\n",
    "import matplotlib.pyplot as plt\n",
    "import pandas as pd\n",
    "import PIL"
   ]
  },
  {
   "cell_type": "code",
   "execution_count": 3,
   "id": "25b62d86",
   "metadata": {},
   "outputs": [],
   "source": [
    "from tensorflow import keras\n",
    "from tensorflow.keras import layers\n",
    "from tensorflow.keras.models import Sequential\n",
    "\n",
    "from PIL import Image,ImageDraw\n",
    "from PIL.ImageDraw import Draw"
   ]
  },
  {
   "cell_type": "code",
   "execution_count": 4,
   "id": "5a52fc75",
   "metadata": {},
   "outputs": [
    {
     "data": {
      "text/plain": [
       "'C:\\\\Users\\\\George\\\\Documents\\\\Python Scripts\\\\DeepTest'"
      ]
     },
     "execution_count": 4,
     "metadata": {},
     "output_type": "execute_result"
    }
   ],
   "source": [
    "os.chdir('C:\\\\Users\\\\George\\\\Documents\\\\Python Scripts\\\\DeepTest')\n",
    "os.getcwd()"
   ]
  },
  {
   "cell_type": "code",
   "execution_count": null,
   "id": "ba7cfdd4",
   "metadata": {},
   "outputs": [],
   "source": []
  },
  {
   "cell_type": "code",
   "execution_count": 5,
   "id": "897b2073",
   "metadata": {},
   "outputs": [],
   "source": [
    "#load dataset\n",
    "os.chdir('C:\\\\Users\\\\George\\\\Documents\\\\Python Scripts\\\\DeepTest\\\\TestSet')\n",
    "bbs = pd.read_csv('bb.csv',header = None)\n",
    "bbs = bbs.iloc[:1000]\n",
    "\n",
    "train_images = []\n",
    "\n",
    "#for i in range(len(train_targets)):\n",
    "for i in range(1000):\n",
    "    image_name = 'test_{}.png'.format(i)\n",
    "    train_img = np.asarray(Image.open(image_name))    \n",
    "    train_images.append(train_img)\n",
    "    \n",
    "train_targets = np.array(bbs,dtype = \"float32\")/164.0\n",
    "train_images = np.array(train_images,dtype = \"float32\")/255.0"
   ]
  },
  {
   "cell_type": "code",
   "execution_count": 6,
   "id": "6857e26e",
   "metadata": {},
   "outputs": [],
   "source": [
    "#load validation dataset\n",
    "os.chdir('C:\\\\Users\\\\George\\\\Documents\\\\Python Scripts\\\\DeepTest\\\\ValidationSet')\n",
    "bbs = pd.read_csv('bb.csv',header = None)\n",
    "bbs = bbs.iloc[:200]\n",
    "\n",
    "val_images = []\n",
    "\n",
    "#for i in range(len(train_targets)):\n",
    "for i in range(200):\n",
    "    image_name = 'test_{}.png'.format(i)\n",
    "    val_img = np.asarray(Image.open(image_name))    \n",
    "    val_images.append(val_img)\n",
    "    \n",
    "val_targets = np.array(bbs,dtype = \"float32\")/164.0\n",
    "val_images = np.array(val_images,dtype = \"float32\")/255.0"
   ]
  },
  {
   "cell_type": "code",
   "execution_count": null,
   "id": "8baa8707",
   "metadata": {},
   "outputs": [],
   "source": []
  },
  {
   "cell_type": "code",
   "execution_count": 7,
   "id": "09b044a2",
   "metadata": {},
   "outputs": [],
   "source": [
    "#start model\n",
    "height,width = 164,164\n",
    "input_shape = (height,width,1) #grayscale\n",
    "input_layer = tf.keras.layers.Input(input_shape)\n",
    "\n",
    "#create the base layers - maxpooling parameter - perhaps not necessary yet?\n",
    "base_layers = layers.Conv2D(16, 3, padding='same', activation='relu', name='bl_2')(input_layer)\n",
    "base_layers = layers.MaxPooling2D(name='bl_3')(base_layers)\n",
    "base_layers = layers.Conv2D(32, 3, padding='same', activation='relu', name='bl_4')(base_layers)\n",
    "base_layers = layers.MaxPooling2D(name='bl_5')(base_layers)\n",
    "base_layers = layers.Conv2D(64, 3, padding='same', activation='relu', name='bl_6')(base_layers)\n",
    "base_layers = layers.MaxPooling2D(name='bl_7')(base_layers)\n",
    "base_layers = layers.Flatten(name='bl_8')(base_layers)"
   ]
  },
  {
   "cell_type": "code",
   "execution_count": 8,
   "id": "fb3287a3",
   "metadata": {},
   "outputs": [],
   "source": [
    "#create output layer\n",
    "locator_branch = layers.Dense(128, activation='relu', name='bb_1')(base_layers)\n",
    "locator_branch = layers.Dense(64, activation='relu', name='bb_2')(locator_branch)\n",
    "locator_branch = layers.Dense(32, activation='relu', name='bb_3')(locator_branch)\n",
    "locator_branch = layers.Dense(4, activation='sigmoid', name='bb_head')(locator_branch)"
   ]
  },
  {
   "cell_type": "code",
   "execution_count": 9,
   "id": "ea59b8e2",
   "metadata": {},
   "outputs": [],
   "source": [
    "model = tf.keras.Model(input_layer,locator_branch)"
   ]
  },
  {
   "cell_type": "code",
   "execution_count": 10,
   "id": "30d32d35",
   "metadata": {},
   "outputs": [
    {
     "name": "stdout",
     "output_type": "stream",
     "text": [
      "Model: \"model\"\n",
      "_________________________________________________________________\n",
      " Layer (type)                Output Shape              Param #   \n",
      "=================================================================\n",
      " input_1 (InputLayer)        [(None, 164, 164, 1)]     0         \n",
      "                                                                 \n",
      " bl_2 (Conv2D)               (None, 164, 164, 16)      160       \n",
      "                                                                 \n",
      " bl_3 (MaxPooling2D)         (None, 82, 82, 16)        0         \n",
      "                                                                 \n",
      " bl_4 (Conv2D)               (None, 82, 82, 32)        4640      \n",
      "                                                                 \n",
      " bl_5 (MaxPooling2D)         (None, 41, 41, 32)        0         \n",
      "                                                                 \n",
      " bl_6 (Conv2D)               (None, 41, 41, 64)        18496     \n",
      "                                                                 \n",
      " bl_7 (MaxPooling2D)         (None, 20, 20, 64)        0         \n",
      "                                                                 \n",
      " bl_8 (Flatten)              (None, 25600)             0         \n",
      "                                                                 \n",
      " bb_1 (Dense)                (None, 128)               3276928   \n",
      "                                                                 \n",
      " bb_2 (Dense)                (None, 64)                8256      \n",
      "                                                                 \n",
      " bb_3 (Dense)                (None, 32)                2080      \n",
      "                                                                 \n",
      " bb_head (Dense)             (None, 4)                 132       \n",
      "                                                                 \n",
      "=================================================================\n",
      "Total params: 3,310,692\n",
      "Trainable params: 3,310,692\n",
      "Non-trainable params: 0\n",
      "_________________________________________________________________\n"
     ]
    }
   ],
   "source": [
    "model.summary()"
   ]
  },
  {
   "cell_type": "code",
   "execution_count": 14,
   "id": "7853401f",
   "metadata": {},
   "outputs": [],
   "source": [
    "def calc_iou(y_true,y_pred):\n",
    "    \n",
    "    \"\"\"\n",
    "    Input :\n",
    "    Keras provides the input as numpy array with shape (batch_size, num_cols)\n",
    "    \n",
    "    Args :\n",
    "    y_true -- box, np arr with format [x,y,w,h]\n",
    "    y_pred -- box, np arr with format [x,y,w,h]\n",
    "    x and y are the coordinates of the top left corner\n",
    "    \n",
    "    Output: IoU of type float32 Max 1, Min 0\n",
    "    \"\"\"\n",
    "    \n",
    "    results = []\n",
    "    \n",
    "    for i in range(0,y_true.shape[0]):\n",
    "        \n",
    "        # set float32\n",
    "        y_true = y_true.astype(np.float32)\n",
    "        y_pred = y_pred.astype(np.float32)\n",
    "        \n",
    "        # boxTrue\n",
    "        x_boxTrue_tleft = y_true[0,0]  # numpy index selection\n",
    "        y_boxTrue_tleft = y_true[0,1]\n",
    "        boxTrue_width = y_true[0,2]\n",
    "        boxTrue_height = y_true[0,3]\n",
    "        area_boxTrue = (boxTrue_width * boxTrue_height)\n",
    "\n",
    "        # boxPred\n",
    "        x_boxPred_tleft = y_pred[0,0]\n",
    "        y_boxPred_tleft = y_pred[0,1]\n",
    "        boxPred_width = y_pred[0,2]\n",
    "        boxPred_height = y_pred[0,3]\n",
    "        area_boxPred = (boxPred_width * boxPred_height)\n",
    "        \n",
    "        \n",
    "        \n",
    "        # calculate the bottom right coordinates for boxTrue and boxPred\n",
    "        \n",
    "        # boxTrue\n",
    "        x_boxTrue_br = x_boxTrue_tleft + boxTrue_width\n",
    "        y_boxTrue_br = y_boxTrue_tleft + boxTrue_height # Version 2 revision\n",
    "        \n",
    "        # boxPred\n",
    "        x_boxPred_br = x_boxPred_tleft + boxPred_width\n",
    "        y_boxPred_br = y_boxPred_tleft + boxPred_height # Version 2 revision\n",
    "        \n",
    "        \n",
    "        \n",
    "        \n",
    "        # calculate the top left and bottom right coordinates for the intersection box, boxInt\n",
    "\n",
    "        # boxInt - top left coords\n",
    "        x_boxInt_tleft = np.max([x_boxTrue_tleft,x_boxPred_tleft])\n",
    "        y_boxInt_tleft = np.max([y_boxTrue_tleft,y_boxPred_tleft]) # Version 2 revision\n",
    "        \n",
    "        # boxInt - bottom right coords\n",
    "        x_boxInt_br = np.min([x_boxTrue_br,x_boxPred_br])\n",
    "        y_boxInt_br = np.min([y_boxTrue_br,y_boxPred_br]) \n",
    "        \n",
    "        # Calculate the area of boxInt, i.e. the area of the intersection \n",
    "        # between boxTrue and boxPred.\n",
    "        # The np.max() function forces the intersection area to 0 if the boxes don't overlap.\n",
    "        \n",
    "        # Version 2 revision\n",
    "        area_of_intersection = \\\n",
    "        np.max([0,(x_boxInt_br - x_boxInt_tleft)]) * np.max([0,(y_boxInt_br - y_boxInt_tleft)])\n",
    "\n",
    "        iou = area_of_intersection / ((area_boxTrue + area_boxPred) - area_of_intersection)\n",
    "\n",
    "\n",
    "        # This must match the type used in py_func\n",
    "        iou = iou.astype(np.float32)\n",
    "        \n",
    "        # append the result to a list at the end of each loop\n",
    "        results.append(iou)\n",
    "    \n",
    "    # return the mean IoU score for the batch\n",
    "    return np.mean(results)"
   ]
  },
  {
   "cell_type": "code",
   "execution_count": 11,
   "id": "2268fd06",
   "metadata": {},
   "outputs": [],
   "source": [
    "import keras.backend as K\n",
    "def iou_calcbatch(bb,bb_pred):\n",
    "    \n",
    "    \"\"\"\n",
    "    New loss function over mse using areas\n",
    "    \n",
    "    bb is a batch of entries\n",
    "    \"\"\"\n",
    "    ious = []\n",
    "    for i in range(bb.shape[0]):\n",
    "    \n",
    "        #format and [x,y,w,h] data\n",
    "        #bb,bb_pred = bb.astype(np.float32),bb_pred.astype(np.float32)\n",
    "        bb_x,bb_y,bb_w,bb_h = bb[i,0],bb[i,1],bb[i,2],bb[i,3]\n",
    "        bb_pred_x,bb_pred_y,bb_pred_w,bb_pred_h = bb_pred[i,0],bb_pred[i,1],bb_pred[i,2],bb_pred[i,3]\n",
    "\n",
    "        #areas of two bounding box\n",
    "        area_bb,area_bb_true = bb_w*bb_h,bb_pred_w*bb_pred_h\n",
    "\n",
    "        #find other coords\n",
    "        bb_x2,bb_y2 = bb_x+bb_w,bb_y+bb_h\n",
    "        bb_pred_x2,bb_pred_y2 = bb_pred_x+bb_pred_w,bb_pred_y+bb_pred_h\n",
    "\n",
    "        #find bottom intersection points (max x and max y for 1 - mins for 2)\n",
    "        x_,y_ = K.max([bb_x,bb_pred_x]),K.max([bb_y,bb_pred_y])\n",
    "        x2_,y2_ = K.min([bb_x2,bb_pred_x2]),K.max([bb_y2,bb_pred_y2])\n",
    "\n",
    "        #area of intersect\n",
    "        area_ = k.max([0,(x2_ - x_)])*K.max([0,(y2_ - y_)])\n",
    "        iou = area_ / ((area_bb_true + area_bb) - area_)\n",
    "        \n",
    "        ious.append(tf.cast(iou, tf.float32))\n",
    "        \n",
    "    return K.mean(K.square(ious),axis = -1)"
   ]
  },
  {
   "cell_type": "code",
   "execution_count": 44,
   "id": "de1f139d",
   "metadata": {},
   "outputs": [],
   "source": [
    "#same only using numpy?\n",
    "def iou_calc(bb,bb_pred):\n",
    "    \n",
    "    \"\"\"\n",
    "    New loss function over mse using areas\n",
    "    \n",
    "    bb is a batch of entries\n",
    "    \"\"\"\n",
    "    ious = np.zeros(bb.shape[0],dtype = np.float32)\n",
    "    for i in range(bb.shape[0]):\n",
    "    \n",
    "        #format and [x,y,w,h] data\n",
    "        #bb,bb_pred = bb.astype(np.float32),bb_pred.astype(np.float32)\n",
    "        bb_x,bb_y,bb_w,bb_h = bb[i,0],bb[i,1],bb[i,2],bb[i,3]\n",
    "        bb_pred_x,bb_pred_y,bb_pred_w,bb_pred_h = bb_pred[i,0],bb_pred[i,1],bb_pred[i,2],bb_pred[i,3]\n",
    "\n",
    "        #areas of two bounding box\n",
    "        area_bb,area_bb_true = bb_w*bb_h,bb_pred_w*bb_pred_h\n",
    "\n",
    "        #find other coords\n",
    "        bb_x2,bb_y2 = bb_x+bb_w,bb_y+bb_h\n",
    "        bb_pred_x2,bb_pred_y2 = bb_pred_x+bb_pred_w,bb_pred_y+bb_pred_h\n",
    "\n",
    "        #find bottom intersection points (max x and max y for 1 - mins for 2)\n",
    "        x_,y_ = np.max([bb_x,bb_pred_x]),np.max([bb_y,bb_pred_y])\n",
    "        x2_,y2_ = np.min([bb_x2,bb_pred_x2]),np.max([bb_y2,bb_pred_y2])\n",
    "\n",
    "        #area of intersect\n",
    "        area_ = np.max([0,(x2_ - x_)])*np.max([0,(y2_ - y_)])\n",
    "        iou = area_ / ((area_bb_true + area_bb) - area_)\n",
    "        \n",
    "        ious[i] = iou\n",
    "        \n",
    "    return ious"
   ]
  },
  {
   "cell_type": "code",
   "execution_count": 26,
   "id": "856b9943",
   "metadata": {},
   "outputs": [
    {
     "data": {
      "text/plain": [
       "array([0.        , 0.        , 0.        , 0.58757085, 2.1575093 ,\n",
       "       0.        , 0.07259946, 0.        , 0.        , 0.16666673],\n",
       "      dtype=float32)"
      ]
     },
     "execution_count": 26,
     "metadata": {},
     "output_type": "execute_result"
    }
   ],
   "source": [
    "iou_calc(val_targets[:10],train_targets[:10])"
   ]
  },
  {
   "cell_type": "code",
   "execution_count": 27,
   "id": "b88a52d4",
   "metadata": {},
   "outputs": [
    {
     "data": {
      "text/plain": [
       "(array([0.4207317 , 0.4817073 , 0.04268293, 0.14634146], dtype=float32),\n",
       " array([0.60365856, 0.66463417, 0.22560975, 0.06097561], dtype=float32))"
      ]
     },
     "execution_count": 27,
     "metadata": {},
     "output_type": "execute_result"
    }
   ],
   "source": [
    "val_targets[0],train_targets[0]"
   ]
  },
  {
   "cell_type": "code",
   "execution_count": 43,
   "id": "bc772832",
   "metadata": {},
   "outputs": [
    {
     "data": {
      "text/plain": [
       "(0.60365856, 0.66463417, 0.4634146, 0.7256098)"
      ]
     },
     "execution_count": 43,
     "metadata": {},
     "output_type": "execute_result"
    }
   ],
   "source": [
    "bb,bb_pred = val_targets[0],train_targets[0]\n",
    "bb_x,bb_y,bb_w,bb_h = bb[0],bb[1],bb[2],bb[3]\n",
    "bb_pred_x,bb_pred_y,bb_pred_w,bb_pred_h = bb_pred[0],bb_pred[1],bb_pred[2],bb_pred[3]\n",
    "\n",
    "area_bb,area_bb_true = bb_w*bb_h,bb_pred_w*bb_pred_h\n",
    "area_bb,area_bb_true\n",
    "\n",
    "bb_x2,bb_y2 = bb_x+bb_w,bb_y+bb_h\n",
    "bb_pred_x2,bb_pred_y2 = bb_pred_x+bb_pred_w,bb_pred_y+bb_pred_h\n",
    "\n",
    "x_,y_ = np.max([bb_x,bb_pred_x]),np.max([bb_y,bb_pred_y])\n",
    "x2_,y2_ = np.min([bb_x2,bb_pred_x2]),np.max([bb_y2,bb_pred_y2])\n",
    "x_,y_,x2_,y2_"
   ]
  },
  {
   "cell_type": "code",
   "execution_count": 34,
   "id": "a87110a5",
   "metadata": {},
   "outputs": [
    {
     "data": {
      "text/plain": [
       "0.0137566921281975"
      ]
     },
     "execution_count": 34,
     "metadata": {},
     "output_type": "execute_result"
    }
   ],
   "source": [
    "0.22560975*0.06097561"
   ]
  },
  {
   "cell_type": "code",
   "execution_count": 45,
   "id": "2162edcf",
   "metadata": {},
   "outputs": [],
   "source": [
    "model.compile(loss = iou_calc, optimizer = 'Adam', metrics = ['accuracy']) "
   ]
  },
  {
   "cell_type": "code",
   "execution_count": 21,
   "id": "9fa9c1ef",
   "metadata": {},
   "outputs": [],
   "source": [
    "model.compile(loss = tf.keras.losses.MSE, optimizer = 'Adam', metrics = ['accuracy']) "
   ]
  },
  {
   "cell_type": "code",
   "execution_count": 46,
   "id": "ff7f7b62",
   "metadata": {},
   "outputs": [
    {
     "data": {
      "text/plain": [
       "array([[0.4207317 , 0.4817073 , 0.04268293, 0.14634146],\n",
       "       [0.23170732, 0.08536585, 0.09146342, 0.13414635],\n",
       "       [0.5       , 0.6890244 , 0.04878049, 0.23170732],\n",
       "       [0.22560975, 0.06097561, 0.06097561, 0.15243903],\n",
       "       [0.03658536, 0.35365853, 0.23780487, 0.04268293],\n",
       "       [0.47560975, 0.34146342, 0.10365853, 0.01219512],\n",
       "       [0.46341464, 0.15853658, 0.08536585, 0.18292683],\n",
       "       [0.15853658, 0.20731707, 0.21341464, 0.03048781],\n",
       "       [0.6585366 , 0.34146342, 0.1402439 , 0.09146342],\n",
       "       [0.33536586, 0.2682927 , 0.11585366, 0.11585366],\n",
       "       [0.70731705, 0.5304878 , 0.20731707, 0.08536585],\n",
       "       [0.5304878 , 0.63414633, 0.05487805, 0.08536585],\n",
       "       [0.09146342, 0.6585366 , 0.1097561 , 0.09146342],\n",
       "       [0.5365854 , 0.39634147, 0.05487805, 0.21341464],\n",
       "       [0.04878049, 0.32317072, 0.1097561 , 0.09146342],\n",
       "       [0.05487805, 0.4207317 , 0.05487805, 0.16463415],\n",
       "       [0.50609756, 0.08536585, 0.1402439 , 0.18902439],\n",
       "       [0.7195122 , 0.6097561 , 0.21341464, 0.1097561 ],\n",
       "       [0.5243902 , 0.5       , 0.09756097, 0.04878049],\n",
       "       [0.68292683, 0.07317073, 0.03658536, 0.23170732],\n",
       "       [0.66463417, 0.22560975, 0.18902439, 0.04878049],\n",
       "       [0.73170733, 0.18292683, 0.08536585, 0.20121951],\n",
       "       [0.2987805 , 0.3292683 , 0.07926829, 0.1097561 ],\n",
       "       [0.45731708, 0.1097561 , 0.14634146, 0.06097561],\n",
       "       [0.42682928, 0.20121951, 0.06707317, 0.20121951],\n",
       "       [0.58536583, 0.51829267, 0.15243903, 0.08536585],\n",
       "       [0.51829267, 0.33536586, 0.06707317, 0.15853658],\n",
       "       [0.80487806, 0.3292683 , 0.1402439 , 0.13414635],\n",
       "       [0.73170733, 0.09146342, 0.07926829, 0.08536585],\n",
       "       [0.23170732, 0.5914634 , 0.10365853, 0.06097561],\n",
       "       [0.7134146 , 0.17682926, 0.1097561 , 0.18292683],\n",
       "       [0.66463417, 0.23170732, 0.04268293, 0.14634146],\n",
       "       [0.03658536, 0.12195122, 0.05487805, 0.15243903],\n",
       "       [0.46341464, 0.7195122 , 0.03658536, 0.14634146],\n",
       "       [0.34146342, 0.60365856, 0.09756097, 0.04878049],\n",
       "       [0.4390244 , 0.06097561, 0.03048781, 0.12804878],\n",
       "       [0.44512194, 0.4878049 , 0.08536585, 0.12804878],\n",
       "       [0.70731705, 0.60365856, 0.1097561 , 0.15853658],\n",
       "       [0.7743902 , 0.47560975, 0.02439024, 0.23170732],\n",
       "       [0.20731707, 0.2682927 , 0.23170732, 0.03658536],\n",
       "       [0.83536583, 0.04878049, 0.06097561, 0.1097561 ],\n",
       "       [0.73170733, 0.43292683, 0.15853658, 0.15853658],\n",
       "       [0.33536586, 0.70731705, 0.1402439 , 0.05487805],\n",
       "       [0.4817073 , 0.4817073 , 0.07926829, 0.15243903],\n",
       "       [0.5365854 , 0.49390244, 0.19512194, 0.01219512],\n",
       "       [0.17073171, 0.4207317 , 0.04878049, 0.09756097],\n",
       "       [0.05487805, 0.5304878 , 0.09756097, 0.12195122],\n",
       "       [0.3597561 , 0.5365854 , 0.1402439 , 0.04268293],\n",
       "       [0.33536586, 0.5       , 0.12804878, 0.20121951],\n",
       "       [0.04878049, 0.03658536, 0.04268293, 0.10365853],\n",
       "       [0.4817073 , 0.55487806, 0.18902439, 0.15243903],\n",
       "       [0.5487805 , 0.54268295, 0.1402439 , 0.08536585],\n",
       "       [0.56707317, 0.41463414, 0.12804878, 0.15853658],\n",
       "       [0.46341464, 0.03658536, 0.1097561 , 0.13414635],\n",
       "       [0.44512194, 0.3597561 , 0.01219512, 0.09146342],\n",
       "       [0.68292683, 0.73170733, 0.05487805, 0.19512194],\n",
       "       [0.4878049 , 0.3902439 , 0.09756097, 0.11585366],\n",
       "       [0.20731707, 0.5792683 , 0.00609756, 0.12195122],\n",
       "       [0.04268293, 0.3597561 , 0.09146342, 0.04268293],\n",
       "       [0.80487806, 0.01219512, 0.10365853, 0.1402439 ],\n",
       "       [0.6402439 , 0.39634147, 0.06097561, 0.2195122 ],\n",
       "       [0.19512194, 0.15243903, 0.01829268, 0.20121951],\n",
       "       [0.4817073 , 0.6097561 , 0.09146342, 0.09146342],\n",
       "       [0.01829268, 0.4207317 , 0.13414635, 0.20121951],\n",
       "       [0.4878049 , 0.1097561 , 0.15243903, 0.05487805],\n",
       "       [0.64634144, 0.55487806, 0.04878049, 0.08536585],\n",
       "       [0.8780488 , 0.11585366, 0.1097561 , 0.08536585],\n",
       "       [0.8719512 , 0.12195122, 0.03048781, 0.21341464],\n",
       "       [0.18902439, 0.6219512 , 0.10365853, 0.09756097],\n",
       "       [0.61585367, 0.3902439 , 0.18902439, 0.1097561 ],\n",
       "       [0.15243903, 0.33536586, 0.06707317, 0.19512194],\n",
       "       [0.06707317, 0.04268293, 0.15243903, 0.18292683],\n",
       "       [0.10365853, 0.22560975, 0.16463415, 0.00609756],\n",
       "       [0.69512194, 0.3597561 , 0.05487805, 0.12195122],\n",
       "       [0.19512194, 0.5365854 , 0.16463415, 0.01829268],\n",
       "       [0.29268292, 0.69512194, 0.04268293, 0.23780487],\n",
       "       [0.8231707 , 0.40853658, 0.11585366, 0.09756097],\n",
       "       [0.5487805 , 0.46341464, 0.09146342, 0.06097561],\n",
       "       [0.2804878 , 0.5609756 , 0.01219512, 0.12195122],\n",
       "       [0.5609756 , 0.3902439 , 0.07317073, 0.12195122],\n",
       "       [0.4878049 , 0.43292683, 0.07317073, 0.22560975],\n",
       "       [0.28658536, 0.5609756 , 0.04268293, 0.12195122],\n",
       "       [0.75      , 0.55487806, 0.07317073, 0.21341464],\n",
       "       [0.03658536, 0.36585367, 0.13414635, 0.19512194],\n",
       "       [0.7012195 , 0.05487805, 0.09756097, 0.04268293],\n",
       "       [0.10365853, 0.00609756, 0.11585366, 0.14634146],\n",
       "       [0.34756097, 0.70731705, 0.14634146, 0.00609756],\n",
       "       [0.47560975, 0.54268295, 0.1097561 , 0.16463415],\n",
       "       [0.4817073 , 0.21341464, 0.05487805, 0.18292683],\n",
       "       [0.5121951 , 0.42682928, 0.20731707, 0.06707317],\n",
       "       [0.50609756, 0.70731705, 0.14634146, 0.00609756],\n",
       "       [0.19512194, 0.04878049, 0.10365853, 0.09146342],\n",
       "       [0.40853658, 0.69512194, 0.09756097, 0.07926829],\n",
       "       [0.4512195 , 0.6890244 , 0.04878049, 0.23170732],\n",
       "       [0.09146342, 0.4878049 , 0.12804878, 0.16463415],\n",
       "       [0.73170733, 0.01829268, 0.01219512, 0.09146342],\n",
       "       [0.06707317, 0.7195122 , 0.04268293, 0.19512194],\n",
       "       [0.10365853, 0.2804878 , 0.1097561 , 0.06097561],\n",
       "       [0.36585367, 0.597561  , 0.08536585, 0.21341464],\n",
       "       [0.61585367, 0.09146342, 0.09146342, 0.13414635],\n",
       "       [0.1402439 , 0.37804878, 0.15853658, 0.1402439 ],\n",
       "       [0.23170732, 0.6402439 , 0.20121951, 0.10365853],\n",
       "       [0.7378049 , 0.5487805 , 0.06707317, 0.1097561 ],\n",
       "       [0.6890244 , 0.18292683, 0.1097561 , 0.19512194],\n",
       "       [0.652439  , 0.5243902 , 0.04268293, 0.08536585],\n",
       "       [0.56707317, 0.597561  , 0.11585366, 0.09756097],\n",
       "       [0.20731707, 0.42682928, 0.17073171, 0.10365853],\n",
       "       [0.56707317, 0.56707317, 0.01829268, 0.20121951],\n",
       "       [0.12195122, 0.4878049 , 0.14634146, 0.17682926],\n",
       "       [0.6707317 , 0.37195122, 0.06707317, 0.09146342],\n",
       "       [0.06707317, 0.63414633, 0.01829268, 0.15243903],\n",
       "       [0.5609756 , 0.03658536, 0.18902439, 0.07317073],\n",
       "       [0.68292683, 0.7256098 , 0.17682926, 0.16463415],\n",
       "       [0.34146342, 0.7256098 , 0.06707317, 0.16463415],\n",
       "       [0.7256098 , 0.49390244, 0.04268293, 0.09146342],\n",
       "       [0.44512194, 0.6890244 , 0.04268293, 0.16463415],\n",
       "       [0.6890244 , 0.24390244, 0.04268293, 0.15243903],\n",
       "       [0.05487805, 0.43292683, 0.11585366, 0.00609756],\n",
       "       [0.5304878 , 0.6097561 , 0.1402439 , 0.13414635],\n",
       "       [0.3597561 , 0.46341464, 0.09146342, 0.06097561],\n",
       "       [0.7134146 , 0.15853658, 0.01829268, 0.18292683],\n",
       "       [0.66463417, 0.4512195 , 0.15243903, 0.14634146],\n",
       "       [0.7804878 , 0.33536586, 0.06707317, 0.19512194],\n",
       "       [0.4207317 , 0.6768293 , 0.01829268, 0.13414635],\n",
       "       [0.93292683, 0.597561  , 0.03658536, 0.17682926],\n",
       "       [0.40853658, 0.6402439 , 0.07317073, 0.19512194],\n",
       "       [0.60365856, 0.08536585, 0.08536585, 0.06097561],\n",
       "       [0.73170733, 0.22560975, 0.16463415, 0.00609756],\n",
       "       [0.4878049 , 0.2682927 , 0.21341464, 0.09146342],\n",
       "       [0.40243903, 0.2804878 , 0.05487805, 0.16463415],\n",
       "       [0.6219512 , 0.3109756 , 0.18902439, 0.02439024],\n",
       "       [0.8719512 , 0.03658536, 0.02439024, 0.10365853],\n",
       "       [0.14634146, 0.22560975, 0.18902439, 0.04878049],\n",
       "       [0.35365853, 0.56707317, 0.19512194, 0.04878049],\n",
       "       [0.70731705, 0.6219512 , 0.10365853, 0.09756097],\n",
       "       [0.3597561 , 0.4512195 , 0.01829268, 0.1402439 ],\n",
       "       [0.5792683 , 0.08536585, 0.04878049, 0.07926829],\n",
       "       [0.4695122 , 0.00609756, 0.1097561 , 0.00609756],\n",
       "       [0.12195122, 0.4817073 , 0.10365853, 0.15243903],\n",
       "       [0.5121951 , 0.31707317, 0.12195122, 0.17073171],\n",
       "       [0.5243902 , 0.5       , 0.01219512, 0.12804878],\n",
       "       [0.7621951 , 0.73170733, 0.07926829, 0.05487805],\n",
       "       [0.24390244, 0.34756097, 0.17682926, 0.12804878],\n",
       "       [0.7012195 , 0.6890244 , 0.07926829, 0.12804878],\n",
       "       [0.70731705, 0.12804878, 0.03048781, 0.12195122],\n",
       "       [0.3902439 , 0.50609756, 0.14634146, 0.04268293],\n",
       "       [0.09146342, 0.38414633, 0.15853658, 0.09146342],\n",
       "       [0.06097561, 0.34756097, 0.07317073, 0.06707317],\n",
       "       [0.3109756 , 0.01219512, 0.07317073, 0.07317073],\n",
       "       [0.42682928, 0.01219512, 0.07317073, 0.10365853],\n",
       "       [0.40853658, 0.1402439 , 0.07926829, 0.05487805],\n",
       "       [0.3902439 , 0.24390244, 0.16463415, 0.12804878],\n",
       "       [0.11585366, 0.652439  , 0.12195122, 0.09756097],\n",
       "       [0.64634144, 0.4390244 , 0.13414635, 0.17073171],\n",
       "       [0.28658536, 0.43292683, 0.05487805, 0.15243903],\n",
       "       [0.2682927 , 0.31707317, 0.01829268, 0.23780487],\n",
       "       [0.8109756 , 0.35365853, 0.12195122, 0.07926829],\n",
       "       [0.6219512 , 0.42682928, 0.17073171, 0.10365853],\n",
       "       [0.63414633, 0.36585367, 0.04878049, 0.22560975],\n",
       "       [0.43292683, 0.5792683 , 0.19512194, 0.09146342],\n",
       "       [0.4695122 , 0.21341464, 0.17073171, 0.1402439 ],\n",
       "       [0.2195122 , 0.6280488 , 0.20121951, 0.09146342],\n",
       "       [0.58536583, 0.6768293 , 0.1097561 , 0.07317073],\n",
       "       [0.45731708, 0.32317072, 0.02439024, 0.09146342],\n",
       "       [0.20121951, 0.66463417, 0.12195122, 0.07926829],\n",
       "       [0.18902439, 0.6585366 , 0.10365853, 0.10365853],\n",
       "       [0.01829268, 0.63414633, 0.12804878, 0.01219512],\n",
       "       [0.24390244, 0.01829268, 0.06707317, 0.07317073],\n",
       "       [0.4207317 , 0.34146342, 0.10365853, 0.01219512],\n",
       "       [0.4878049 , 0.61585367, 0.08536585, 0.03658536],\n",
       "       [0.13414635, 0.66463417, 0.15853658, 0.15853658],\n",
       "       [0.5792683 , 0.08536585, 0.09146342, 0.06707317],\n",
       "       [0.42682928, 0.6890244 , 0.12804878, 0.03048781],\n",
       "       [0.04268293, 0.73170733, 0.07317073, 0.18902439],\n",
       "       [0.4390244 , 0.4817073 , 0.07926829, 0.15243903],\n",
       "       [0.34756097, 0.7256098 , 0.19512194, 0.06097561],\n",
       "       [0.2804878 , 0.7256098 , 0.16463415, 0.16463415],\n",
       "       [0.70731705, 0.11585366, 0.1402439 , 0.14634146],\n",
       "       [0.597561  , 0.4390244 , 0.07926829, 0.09756097],\n",
       "       [0.06707317, 0.16463415, 0.07926829, 0.12804878],\n",
       "       [0.5121951 , 0.36585367, 0.03658536, 0.2195122 ],\n",
       "       [0.6097561 , 0.1097561 , 0.04878049, 0.10365853],\n",
       "       [0.69512194, 0.69512194, 0.21341464, 0.02439024],\n",
       "       [0.25609756, 0.73170733, 0.08536585, 0.20121951],\n",
       "       [0.6097561 , 0.34756097, 0.16463415, 0.07317073],\n",
       "       [0.39634147, 0.16463415, 0.14634146, 0.17073171],\n",
       "       [0.50609756, 0.34146342, 0.19512194, 0.00609756],\n",
       "       [0.55487806, 0.16463415, 0.18292683, 0.14634146],\n",
       "       [0.3292683 , 0.10365853, 0.05487805, 0.15243903],\n",
       "       [0.06707317, 0.43292683, 0.01829268, 0.19512194],\n",
       "       [0.8109756 , 0.44512194, 0.06097561, 0.17073171],\n",
       "       [0.597561  , 0.12195122, 0.06097561, 0.08536585],\n",
       "       [0.3109756 , 0.02439024, 0.21341464, 0.07926829],\n",
       "       [0.68292683, 0.5       , 0.15243903, 0.02439024],\n",
       "       [0.54268295, 0.69512194, 0.12195122, 0.10365853],\n",
       "       [0.2804878 , 0.39634147, 0.01829268, 0.17073171],\n",
       "       [0.55487806, 0.43292683, 0.06097561, 0.07317073],\n",
       "       [0.37804878, 0.2682927 , 0.16463415, 0.08536585],\n",
       "       [0.09756097, 0.43292683, 0.17073171, 0.1402439 ],\n",
       "       [0.24390244, 0.37195122, 0.04878049, 0.23170732]], dtype=float32)"
      ]
     },
     "execution_count": 46,
     "metadata": {},
     "output_type": "execute_result"
    }
   ],
   "source": [
    "val_targets"
   ]
  },
  {
   "cell_type": "code",
   "execution_count": 47,
   "id": "e1b265b7",
   "metadata": {},
   "outputs": [
    {
     "name": "stdout",
     "output_type": "stream",
     "text": [
      "Epoch 1/2\n"
     ]
    },
    {
     "ename": "NotImplementedError",
     "evalue": "in user code:\n\n    File \"C:\\Users\\George\\anaconda3\\envs\\tf\\lib\\site-packages\\keras\\engine\\training.py\", line 878, in train_function  *\n        return step_function(self, iterator)\n    File \"C:\\Users\\George\\AppData\\Local\\Temp/ipykernel_11768/126644429.py\", line 25, in iou_calc  *\n        x_,y_ = np.max([bb_x,bb_pred_x]),np.max([bb_y,bb_pred_y])\n    File \"<__array_function__ internals>\", line 5, in amax  **\n        \n    File \"C:\\Users\\George\\anaconda3\\envs\\tf\\lib\\site-packages\\numpy\\core\\fromnumeric.py\", line 2754, in amax\n        return _wrapreduction(a, np.maximum, 'max', axis, None, out,\n    File \"C:\\Users\\George\\anaconda3\\envs\\tf\\lib\\site-packages\\numpy\\core\\fromnumeric.py\", line 86, in _wrapreduction\n        return ufunc.reduce(obj, axis, dtype, out, **passkwargs)\n\n    NotImplementedError: Cannot convert a symbolic Tensor (iou_calc/strided_slice:0) to a numpy array. This error may indicate that you're trying to pass a Tensor to a NumPy call, which is not supported\n",
     "output_type": "error",
     "traceback": [
      "\u001b[1;31m---------------------------------------------------------------------------\u001b[0m",
      "\u001b[1;31mNotImplementedError\u001b[0m                       Traceback (most recent call last)",
      "\u001b[1;32m~\\AppData\\Local\\Temp/ipykernel_11768/2134846121.py\u001b[0m in \u001b[0;36m<module>\u001b[1;34m\u001b[0m\n\u001b[1;32m----> 1\u001b[1;33m history = model.fit(train_images,train_targets,\n\u001b[0m\u001b[0;32m      2\u001b[0m                    \u001b[0mvalidation_data\u001b[0m \u001b[1;33m=\u001b[0m \u001b[1;33m(\u001b[0m\u001b[0mval_images\u001b[0m\u001b[1;33m,\u001b[0m \u001b[0mval_targets\u001b[0m\u001b[1;33m)\u001b[0m\u001b[1;33m,\u001b[0m\u001b[1;33m\u001b[0m\u001b[1;33m\u001b[0m\u001b[0m\n\u001b[0;32m      3\u001b[0m                    \u001b[0mbatch_size\u001b[0m \u001b[1;33m=\u001b[0m \u001b[1;36m20\u001b[0m\u001b[1;33m,\u001b[0m\u001b[1;33m\u001b[0m\u001b[1;33m\u001b[0m\u001b[0m\n\u001b[0;32m      4\u001b[0m                    \u001b[0mepochs\u001b[0m \u001b[1;33m=\u001b[0m \u001b[1;36m2\u001b[0m\u001b[1;33m,\u001b[0m\u001b[1;33m\u001b[0m\u001b[1;33m\u001b[0m\u001b[0m\n\u001b[0;32m      5\u001b[0m                    \u001b[0mshuffle\u001b[0m \u001b[1;33m=\u001b[0m \u001b[1;32mTrue\u001b[0m\u001b[1;33m,\u001b[0m\u001b[1;33m\u001b[0m\u001b[1;33m\u001b[0m\u001b[0m\n",
      "\u001b[1;32m~\\anaconda3\\envs\\tf\\lib\\site-packages\\keras\\utils\\traceback_utils.py\u001b[0m in \u001b[0;36merror_handler\u001b[1;34m(*args, **kwargs)\u001b[0m\n\u001b[0;32m     65\u001b[0m     \u001b[1;32mexcept\u001b[0m \u001b[0mException\u001b[0m \u001b[1;32mas\u001b[0m \u001b[0me\u001b[0m\u001b[1;33m:\u001b[0m  \u001b[1;31m# pylint: disable=broad-except\u001b[0m\u001b[1;33m\u001b[0m\u001b[1;33m\u001b[0m\u001b[0m\n\u001b[0;32m     66\u001b[0m       \u001b[0mfiltered_tb\u001b[0m \u001b[1;33m=\u001b[0m \u001b[0m_process_traceback_frames\u001b[0m\u001b[1;33m(\u001b[0m\u001b[0me\u001b[0m\u001b[1;33m.\u001b[0m\u001b[0m__traceback__\u001b[0m\u001b[1;33m)\u001b[0m\u001b[1;33m\u001b[0m\u001b[1;33m\u001b[0m\u001b[0m\n\u001b[1;32m---> 67\u001b[1;33m       \u001b[1;32mraise\u001b[0m \u001b[0me\u001b[0m\u001b[1;33m.\u001b[0m\u001b[0mwith_traceback\u001b[0m\u001b[1;33m(\u001b[0m\u001b[0mfiltered_tb\u001b[0m\u001b[1;33m)\u001b[0m \u001b[1;32mfrom\u001b[0m \u001b[1;32mNone\u001b[0m\u001b[1;33m\u001b[0m\u001b[1;33m\u001b[0m\u001b[0m\n\u001b[0m\u001b[0;32m     68\u001b[0m     \u001b[1;32mfinally\u001b[0m\u001b[1;33m:\u001b[0m\u001b[1;33m\u001b[0m\u001b[1;33m\u001b[0m\u001b[0m\n\u001b[0;32m     69\u001b[0m       \u001b[1;32mdel\u001b[0m \u001b[0mfiltered_tb\u001b[0m\u001b[1;33m\u001b[0m\u001b[1;33m\u001b[0m\u001b[0m\n",
      "\u001b[1;32m~\\anaconda3\\envs\\tf\\lib\\site-packages\\tensorflow\\python\\framework\\func_graph.py\u001b[0m in \u001b[0;36mautograph_handler\u001b[1;34m(*args, **kwargs)\u001b[0m\n\u001b[0;32m   1127\u001b[0m           \u001b[1;32mexcept\u001b[0m \u001b[0mException\u001b[0m \u001b[1;32mas\u001b[0m \u001b[0me\u001b[0m\u001b[1;33m:\u001b[0m  \u001b[1;31m# pylint:disable=broad-except\u001b[0m\u001b[1;33m\u001b[0m\u001b[1;33m\u001b[0m\u001b[0m\n\u001b[0;32m   1128\u001b[0m             \u001b[1;32mif\u001b[0m \u001b[0mhasattr\u001b[0m\u001b[1;33m(\u001b[0m\u001b[0me\u001b[0m\u001b[1;33m,\u001b[0m \u001b[1;34m\"ag_error_metadata\"\u001b[0m\u001b[1;33m)\u001b[0m\u001b[1;33m:\u001b[0m\u001b[1;33m\u001b[0m\u001b[1;33m\u001b[0m\u001b[0m\n\u001b[1;32m-> 1129\u001b[1;33m               \u001b[1;32mraise\u001b[0m \u001b[0me\u001b[0m\u001b[1;33m.\u001b[0m\u001b[0mag_error_metadata\u001b[0m\u001b[1;33m.\u001b[0m\u001b[0mto_exception\u001b[0m\u001b[1;33m(\u001b[0m\u001b[0me\u001b[0m\u001b[1;33m)\u001b[0m\u001b[1;33m\u001b[0m\u001b[1;33m\u001b[0m\u001b[0m\n\u001b[0m\u001b[0;32m   1130\u001b[0m             \u001b[1;32melse\u001b[0m\u001b[1;33m:\u001b[0m\u001b[1;33m\u001b[0m\u001b[1;33m\u001b[0m\u001b[0m\n\u001b[0;32m   1131\u001b[0m               \u001b[1;32mraise\u001b[0m\u001b[1;33m\u001b[0m\u001b[1;33m\u001b[0m\u001b[0m\n",
      "\u001b[1;31mNotImplementedError\u001b[0m: in user code:\n\n    File \"C:\\Users\\George\\anaconda3\\envs\\tf\\lib\\site-packages\\keras\\engine\\training.py\", line 878, in train_function  *\n        return step_function(self, iterator)\n    File \"C:\\Users\\George\\AppData\\Local\\Temp/ipykernel_11768/126644429.py\", line 25, in iou_calc  *\n        x_,y_ = np.max([bb_x,bb_pred_x]),np.max([bb_y,bb_pred_y])\n    File \"<__array_function__ internals>\", line 5, in amax  **\n        \n    File \"C:\\Users\\George\\anaconda3\\envs\\tf\\lib\\site-packages\\numpy\\core\\fromnumeric.py\", line 2754, in amax\n        return _wrapreduction(a, np.maximum, 'max', axis, None, out,\n    File \"C:\\Users\\George\\anaconda3\\envs\\tf\\lib\\site-packages\\numpy\\core\\fromnumeric.py\", line 86, in _wrapreduction\n        return ufunc.reduce(obj, axis, dtype, out, **passkwargs)\n\n    NotImplementedError: Cannot convert a symbolic Tensor (iou_calc/strided_slice:0) to a numpy array. This error may indicate that you're trying to pass a Tensor to a NumPy call, which is not supported\n"
     ]
    }
   ],
   "source": [
    "history = model.fit(train_images,train_targets,\n",
    "                   validation_data = (val_images, val_targets),\n",
    "                   batch_size = 20,\n",
    "                   epochs = 2,\n",
    "                   shuffle = True,\n",
    "                   verbose = 1)"
   ]
  },
  {
   "cell_type": "code",
   "execution_count": 24,
   "id": "3a97c094",
   "metadata": {},
   "outputs": [
    {
     "data": {
      "image/png": "[encoded data removed]",
      "text/plain": [
       "<Figure size 432x288 with 1 Axes>"
      ]
     },
     "metadata": {
      "needs_background": "light"
     },
     "output_type": "display_data"
    }
   ],
   "source": [
    "plt.plot(history.history['accuracy'])\n",
    "plt.plot(history.history['val_accuracy'])\n",
    "plt.title('model accuracy')\n",
    "plt.ylabel('accuracy')\n",
    "plt.xlabel('epoch')\n",
    "plt.legend(['train', 'val'], loc='upper left')\n",
    "plt.show()"
   ]
  },
  {
   "cell_type": "code",
   "execution_count": 25,
   "id": "eba60498",
   "metadata": {},
   "outputs": [
    {
     "data": {
      "image/png": "[encoded data removed]",
      "text/plain": [
       "<PIL.PngImagePlugin.PngImageFile image mode=L size=164x164 at 0x18D68302D90>"
      ]
     },
     "metadata": {},
     "output_type": "display_data"
    }
   ],
   "source": [
    "#read in image for prediction\n",
    "os.chdir('C:\\\\Users\\\\George\\\\Documents\\\\Python Scripts\\\\DeepTest\\\\ValidationSet')\n",
    "img_num = np.random.randint(0,200)\n",
    "filename = 'test_{}.png'.format(img_num)\n",
    "test_img = Image.open(filename)\n",
    "display(test_img)"
   ]
  },
  {
   "cell_type": "code",
   "execution_count": 26,
   "id": "2949a592",
   "metadata": {},
   "outputs": [
    {
     "name": "stdout",
     "output_type": "stream",
     "text": [
      "[118.384514  30.140718  11.692188  29.32327 ]\n"
     ]
    }
   ],
   "source": [
    "#convert image to array and predict with model\n",
    "test_img_arr = np.array([np.asarray(test_img,dtype = \"float32\")/255.0])\n",
    "bb_raw = model.predict(test_img_arr)\n",
    "bb = bb_raw[0]*164\n",
    "print(bb)"
   ]
  },
  {
   "cell_type": "code",
   "execution_count": 27,
   "id": "0a7fdee3",
   "metadata": {},
   "outputs": [
    {
     "data": {
      "image/png": "[encoded data removed]",
      "text/plain": [
       "<PIL.PngImagePlugin.PngImageFile image mode=L size=164x164 at 0x18D68302D90>"
      ]
     },
     "metadata": {},
     "output_type": "display_data"
    }
   ],
   "source": [
    "#display prediction\n",
    "results = Draw(test_img)\n",
    "results.rectangle([(bb[0],bb[1]),(bb[0]+bb[2],bb[1]+bb[3])])\n",
    "display(test_img)"
   ]
  }
 ],
 "metadata": {
  "kernelspec": {
   "display_name": "Python 3 (ipykernel)",
   "language": "python",
   "name": "python3"
  },
  "language_info": {
   "codemirror_mode": {
    "name": "ipython",
    "version": 3
   },
   "file_extension": ".py",
   "mimetype": "text/x-python",
   "name": "python",
   "nbconvert_exporter": "python",
   "pygments_lexer": "ipython3",
   "version": "3.8.12"
  }
 },
 "nbformat": 4,
 "nbformat_minor": 5
}
