{
 "cells": [
  {
   "cell_type": "code",
   "execution_count": 1,
   "id": "820baf4c",
   "metadata": {},
   "outputs": [],
   "source": [
    "import tensorflow as tf"
   ]
  },
  {
   "cell_type": "code",
   "execution_count": 2,
   "id": "110e6bca",
   "metadata": {},
   "outputs": [],
   "source": [
    "import os\n",
    "import numpy as np\n",
    "import matplotlib.pyplot as plt\n",
    "import pandas as pd\n",
    "import PIL"
   ]
  },
  {
   "cell_type": "code",
   "execution_count": 3,
   "id": "25b62d86",
   "metadata": {},
   "outputs": [],
   "source": [
    "from tensorflow import keras\n",
    "from tensorflow.keras import layers\n",
    "from tensorflow.keras.models import Sequential\n",
    "\n",
    "from PIL import Image,ImageDraw\n",
    "from PIL.ImageDraw import Draw"
   ]
  },
  {
   "cell_type": "code",
   "execution_count": 4,
   "id": "5a52fc75",
   "metadata": {},
   "outputs": [
    {
     "data": {
      "text/plain": [
       "'C:\\\\Users\\\\George\\\\Documents\\\\Python Scripts\\\\DeepTest\\\\Radix_NNdata'"
      ]
     },
     "execution_count": 4,
     "metadata": {},
     "output_type": "execute_result"
    }
   ],
   "source": [
    "os.chdir('C:\\\\Users\\\\George\\\\Documents\\\\Python Scripts\\\\DeepTest\\\\Radix_NNdata')\n",
    "os.getcwd()"
   ]
  },
  {
   "cell_type": "code",
   "execution_count": null,
   "id": "ba7cfdd4",
   "metadata": {},
   "outputs": [],
   "source": []
  },
  {
   "cell_type": "code",
   "execution_count": 7,
   "id": "897b2073",
   "metadata": {},
   "outputs": [],
   "source": [
    "#load training dataset\n",
    "os.chdir('C:\\\\Users\\\\George\\\\Documents\\\\Python Scripts\\\\DeepTest\\\\Radix_NNdata\\\\TrainSet')\n",
    "bbs = pd.read_csv('bb.csv',header = None)\n",
    "\n",
    "train_data = [f for f in os.listdir() if '.jpg' in f]\n",
    "train_images = []\n",
    "\n",
    "for i in range(len(train_data)):\n",
    "    image_name = 'data{}.jpg'.format(i)\n",
    "    train_img = np.asarray(Image.open(image_name))    \n",
    "    train_images.append(train_img)\n",
    "    \n",
    "train_targets = np.array(bbs,dtype = \"float32\")/128.0\n",
    "train_images = np.array(train_images,dtype = \"float32\")/255.0"
   ]
  },
  {
   "cell_type": "code",
   "execution_count": 9,
   "id": "6857e26e",
   "metadata": {},
   "outputs": [],
   "source": [
    "#load validation dataset\n",
    "os.chdir('C:\\\\Users\\\\George\\\\Documents\\\\Python Scripts\\\\DeepTest\\\\Radix_NNdata\\\\ValidationSet')\n",
    "bbs = pd.read_csv('bb.csv',header = None)\n",
    "\n",
    "val_data = [f for f in os.listdir() if '.jpg' in f]\n",
    "val_images = []\n",
    "\n",
    "#for i in range(len(train_targets)):\n",
    "for i in range(len(val_data)):\n",
    "    image_name = 'data{}.jpg'.format(i)\n",
    "    val_img = np.asarray(Image.open(image_name))    \n",
    "    val_images.append(val_img)\n",
    "    \n",
    "val_targets = np.array(bbs,dtype = \"float32\")/128.0\n",
    "val_images = np.array(val_images,dtype = \"float32\")/255.0"
   ]
  },
  {
   "cell_type": "code",
   "execution_count": null,
   "id": "8baa8707",
   "metadata": {},
   "outputs": [],
   "source": []
  },
  {
   "cell_type": "code",
   "execution_count": 10,
   "id": "09b044a2",
   "metadata": {},
   "outputs": [],
   "source": [
    "#start model\n",
    "height,width = 128,128\n",
    "input_shape = (height,width,1) #grayscale\n",
    "input_layer = tf.keras.layers.Input(input_shape)\n",
    "\n",
    "#create the base layers - maxpooling parameter - perhaps not necessary yet?\n",
    "base_layers = layers.Conv2D(16, 3, padding='same', activation='relu', name='bl_2')(input_layer)\n",
    "base_layers = layers.MaxPooling2D(name='bl_3')(base_layers)\n",
    "base_layers = layers.Conv2D(32, 3, padding='same', activation='relu', name='bl_4')(base_layers)\n",
    "base_layers = layers.MaxPooling2D(name='bl_5')(base_layers)\n",
    "base_layers = layers.Conv2D(64, 3, padding='same', activation='relu', name='bl_6')(base_layers)\n",
    "base_layers = layers.MaxPooling2D(name='bl_7')(base_layers)\n",
    "base_layers = layers.Flatten(name='bl_8')(base_layers)"
   ]
  },
  {
   "cell_type": "code",
   "execution_count": 11,
   "id": "fb3287a3",
   "metadata": {},
   "outputs": [],
   "source": [
    "#create output layer\n",
    "locator_branch = layers.Dense(128, activation='relu', name='bb_1')(base_layers)\n",
    "locator_branch = layers.Dense(64, activation='relu', name='bb_2')(locator_branch)\n",
    "locator_branch = layers.Dense(32, activation='relu', name='bb_3')(locator_branch)\n",
    "locator_branch = layers.Dense(4, activation='sigmoid', name='bb_head')(locator_branch)"
   ]
  },
  {
   "cell_type": "code",
   "execution_count": 12,
   "id": "ea59b8e2",
   "metadata": {},
   "outputs": [],
   "source": [
    "model = tf.keras.Model(input_layer,locator_branch)"
   ]
  },
  {
   "cell_type": "code",
   "execution_count": 13,
   "id": "30d32d35",
   "metadata": {
    "scrolled": true
   },
   "outputs": [
    {
     "name": "stdout",
     "output_type": "stream",
     "text": [
      "Model: \"model\"\n",
      "_________________________________________________________________\n",
      " Layer (type)                Output Shape              Param #   \n",
      "=================================================================\n",
      " input_1 (InputLayer)        [(None, 128, 128, 1)]     0         \n",
      "                                                                 \n",
      " bl_2 (Conv2D)               (None, 128, 128, 16)      160       \n",
      "                                                                 \n",
      " bl_3 (MaxPooling2D)         (None, 64, 64, 16)        0         \n",
      "                                                                 \n",
      " bl_4 (Conv2D)               (None, 64, 64, 32)        4640      \n",
      "                                                                 \n",
      " bl_5 (MaxPooling2D)         (None, 32, 32, 32)        0         \n",
      "                                                                 \n",
      " bl_6 (Conv2D)               (None, 32, 32, 64)        18496     \n",
      "                                                                 \n",
      " bl_7 (MaxPooling2D)         (None, 16, 16, 64)        0         \n",
      "                                                                 \n",
      " bl_8 (Flatten)              (None, 16384)             0         \n",
      "                                                                 \n",
      " bb_1 (Dense)                (None, 128)               2097280   \n",
      "                                                                 \n",
      " bb_2 (Dense)                (None, 64)                8256      \n",
      "                                                                 \n",
      " bb_3 (Dense)                (None, 32)                2080      \n",
      "                                                                 \n",
      " bb_head (Dense)             (None, 4)                 132       \n",
      "                                                                 \n",
      "=================================================================\n",
      "Total params: 2,131,044\n",
      "Trainable params: 2,131,044\n",
      "Non-trainable params: 0\n",
      "_________________________________________________________________\n"
     ]
    }
   ],
   "source": [
    "model.summary()"
   ]
  },
  {
   "cell_type": "code",
   "execution_count": 14,
   "id": "b88a52d4",
   "metadata": {},
   "outputs": [
    {
     "data": {
      "text/plain": [
       "(array([0.7578125, 0.75     , 0.21875  , 0.1953125], dtype=float32),\n",
       " array([0.       , 0.5234375, 0.140625 , 0.2109375], dtype=float32))"
      ]
     },
     "execution_count": 14,
     "metadata": {},
     "output_type": "execute_result"
    }
   ],
   "source": [
    "val_targets[0],train_targets[0]"
   ]
  },
  {
   "cell_type": "code",
   "execution_count": 15,
   "id": "9fa9c1ef",
   "metadata": {},
   "outputs": [],
   "source": [
    "model.compile(loss = tf.keras.losses.MSE, optimizer = 'Adam', metrics = ['accuracy']) "
   ]
  },
  {
   "cell_type": "code",
   "execution_count": 16,
   "id": "ff7f7b62",
   "metadata": {},
   "outputs": [
    {
     "data": {
      "text/plain": [
       "array([[0.7578125, 0.75     , 0.21875  , 0.1953125],\n",
       "       [0.78125  , 0.5390625, 0.2265625, 0.171875 ],\n",
       "       [0.6171875, 0.1328125, 0.265625 , 0.328125 ],\n",
       "       ...,\n",
       "       [0.4375   , 0.7578125, 0.2890625, 0.203125 ],\n",
       "       [0.1328125, 0.375    , 0.1484375, 0.1953125],\n",
       "       [0.125    , 0.71875  , 0.234375 , 0.1640625]], dtype=float32)"
      ]
     },
     "execution_count": 16,
     "metadata": {},
     "output_type": "execute_result"
    }
   ],
   "source": [
    "val_targets"
   ]
  },
  {
   "cell_type": "code",
   "execution_count": 18,
   "id": "e1b265b7",
   "metadata": {},
   "outputs": [
    {
     "name": "stdout",
     "output_type": "stream",
     "text": [
      "Epoch 1/30\n",
      "169/169 [==============================] - 10s 62ms/step - loss: 0.0042 - accuracy: 0.8878 - val_loss: 0.0041 - val_accuracy: 0.9112\n",
      "Epoch 2/30\n",
      "169/169 [==============================] - 11s 62ms/step - loss: 0.0034 - accuracy: 0.9104 - val_loss: 0.0037 - val_accuracy: 0.9105\n",
      "Epoch 3/30\n",
      "169/169 [==============================] - 10s 62ms/step - loss: 0.0029 - accuracy: 0.9143 - val_loss: 0.0031 - val_accuracy: 0.9015\n",
      "Epoch 4/30\n",
      "169/169 [==============================] - 11s 63ms/step - loss: 0.0024 - accuracy: 0.9244 - val_loss: 0.0029 - val_accuracy: 0.9147\n",
      "Epoch 5/30\n",
      "169/169 [==============================] - 10s 62ms/step - loss: 0.0022 - accuracy: 0.9271 - val_loss: 0.0027 - val_accuracy: 0.9154\n",
      "Epoch 6/30\n",
      "169/169 [==============================] - 11s 62ms/step - loss: 0.0021 - accuracy: 0.9304 - val_loss: 0.0024 - val_accuracy: 0.9223\n",
      "Epoch 7/30\n",
      "169/169 [==============================] - 11s 63ms/step - loss: 0.0019 - accuracy: 0.9363 - val_loss: 0.0020 - val_accuracy: 0.9258\n",
      "Epoch 8/30\n",
      "169/169 [==============================] - 11s 62ms/step - loss: 0.0017 - accuracy: 0.9384 - val_loss: 0.0020 - val_accuracy: 0.9209\n",
      "Epoch 9/30\n",
      "169/169 [==============================] - 11s 63ms/step - loss: 0.0013 - accuracy: 0.9420 - val_loss: 0.0017 - val_accuracy: 0.9112\n",
      "Epoch 10/30\n",
      "169/169 [==============================] - 11s 62ms/step - loss: 9.6510e-04 - accuracy: 0.9429 - val_loss: 0.0015 - val_accuracy: 0.9459\n",
      "Epoch 11/30\n",
      "169/169 [==============================] - 11s 63ms/step - loss: 9.2755e-04 - accuracy: 0.9494 - val_loss: 0.0012 - val_accuracy: 0.9445\n",
      "Epoch 12/30\n",
      "169/169 [==============================] - 11s 63ms/step - loss: 6.3668e-04 - accuracy: 0.9569 - val_loss: 0.0011 - val_accuracy: 0.9459\n",
      "Epoch 13/30\n",
      "169/169 [==============================] - 11s 63ms/step - loss: 5.3925e-04 - accuracy: 0.9601 - val_loss: 0.0010 - val_accuracy: 0.9487\n",
      "Epoch 14/30\n",
      "169/169 [==============================] - 11s 64ms/step - loss: 5.6758e-04 - accuracy: 0.9643 - val_loss: 0.0012 - val_accuracy: 0.9404\n",
      "Epoch 15/30\n",
      "169/169 [==============================] - 11s 63ms/step - loss: 4.8234e-04 - accuracy: 0.9604 - val_loss: 0.0011 - val_accuracy: 0.9480\n",
      "Epoch 16/30\n",
      "169/169 [==============================] - 11s 63ms/step - loss: 4.1412e-04 - accuracy: 0.9652 - val_loss: 0.0010 - val_accuracy: 0.9563\n",
      "Epoch 17/30\n",
      "169/169 [==============================] - 11s 64ms/step - loss: 3.3854e-04 - accuracy: 0.9711 - val_loss: 9.0506e-04 - val_accuracy: 0.9452\n",
      "Epoch 18/30\n",
      "169/169 [==============================] - 11s 63ms/step - loss: 2.9939e-04 - accuracy: 0.9702 - val_loss: 9.1972e-04 - val_accuracy: 0.9508\n",
      "Epoch 19/30\n",
      "169/169 [==============================] - 11s 63ms/step - loss: 2.9317e-04 - accuracy: 0.9699 - val_loss: 9.2062e-04 - val_accuracy: 0.9549\n",
      "Epoch 20/30\n",
      "169/169 [==============================] - 11s 64ms/step - loss: 2.9175e-04 - accuracy: 0.9714 - val_loss: 9.1556e-04 - val_accuracy: 0.9591\n",
      "Epoch 21/30\n",
      "169/169 [==============================] - 11s 63ms/step - loss: 2.7605e-04 - accuracy: 0.9780 - val_loss: 9.7456e-04 - val_accuracy: 0.9494\n",
      "Epoch 22/30\n",
      "169/169 [==============================] - 11s 64ms/step - loss: 3.0326e-04 - accuracy: 0.9702 - val_loss: 0.0010 - val_accuracy: 0.9501\n",
      "Epoch 23/30\n",
      "169/169 [==============================] - 11s 63ms/step - loss: 2.2958e-04 - accuracy: 0.9765 - val_loss: 8.6182e-04 - val_accuracy: 0.9598\n",
      "Epoch 24/30\n",
      "169/169 [==============================] - 11s 63ms/step - loss: 2.3841e-04 - accuracy: 0.9750 - val_loss: 8.2795e-04 - val_accuracy: 0.9660\n",
      "Epoch 25/30\n",
      "169/169 [==============================] - 11s 64ms/step - loss: 2.3706e-04 - accuracy: 0.9759 - val_loss: 8.3586e-04 - val_accuracy: 0.9584\n",
      "Epoch 26/30\n",
      "169/169 [==============================] - 11s 63ms/step - loss: 2.1220e-04 - accuracy: 0.9798 - val_loss: 9.1160e-04 - val_accuracy: 0.9521\n",
      "Epoch 27/30\n",
      "169/169 [==============================] - 11s 63ms/step - loss: 3.2487e-04 - accuracy: 0.9732 - val_loss: 0.0011 - val_accuracy: 0.9369\n",
      "Epoch 28/30\n",
      "169/169 [==============================] - 11s 63ms/step - loss: 2.7175e-04 - accuracy: 0.9726 - val_loss: 8.5442e-04 - val_accuracy: 0.9577\n",
      "Epoch 29/30\n",
      "169/169 [==============================] - 11s 63ms/step - loss: 2.4621e-04 - accuracy: 0.9753 - val_loss: 8.4817e-04 - val_accuracy: 0.9570\n",
      "Epoch 30/30\n",
      "169/169 [==============================] - 11s 63ms/step - loss: 2.1314e-04 - accuracy: 0.9759 - val_loss: 8.5250e-04 - val_accuracy: 0.9591\n"
     ]
    }
   ],
   "source": [
    "history = model.fit(train_images,train_targets,\n",
    "                   validation_data = (val_images, val_targets),\n",
    "                   batch_size = 20,\n",
    "                   epochs = 30,\n",
    "                   shuffle = True,\n",
    "                   verbose = 1)"
   ]
  },
  {
   "cell_type": "code",
   "execution_count": 19,
   "id": "3a97c094",
   "metadata": {},
   "outputs": [
    {
     "data": {
      "image/png": "[encoded data removed]",
      "text/plain": [
       "<Figure size 432x288 with 1 Axes>"
      ]
     },
     "metadata": {
      "needs_background": "light"
     },
     "output_type": "display_data"
    }
   ],
   "source": [
    "plt.plot(history.history['accuracy'])\n",
    "plt.plot(history.history['val_accuracy'])\n",
    "plt.title('model accuracy')\n",
    "plt.ylabel('accuracy')\n",
    "plt.xlabel('epoch')\n",
    "plt.legend(['train', 'val'], loc='upper left')\n",
    "plt.show()"
   ]
  },
  {
   "cell_type": "code",
   "execution_count": 25,
   "id": "eba60498",
   "metadata": {},
   "outputs": [
    {
     "data": {
      "image/png": "[encoded data removed]",
      "text/plain": [
       "<PIL.PngImagePlugin.PngImageFile image mode=L size=164x164 at 0x18D68302D90>"
      ]
     },
     "metadata": {},
     "output_type": "display_data"
    }
   ],
   "source": [
    "#predict on new image (test set of 10 images) ?? - Alex\n"
   ]
  },
  {
   "cell_type": "code",
   "execution_count": 26,
   "id": "2949a592",
   "metadata": {},
   "outputs": [
    {
     "name": "stdout",
     "output_type": "stream",
     "text": [
      "[118.384514  30.140718  11.692188  29.32327 ]\n"
     ]
    }
   ],
   "source": [
    "#convert image to array and predict with model ?? - Alex\n"
   ]
  },
  {
   "cell_type": "code",
   "execution_count": 27,
   "id": "0a7fdee3",
   "metadata": {},
   "outputs": [
    {
     "data": {
      "image/png": "[encoded data removed]",
      "text/plain": [
       "<PIL.PngImagePlugin.PngImageFile image mode=L size=164x164 at 0x18D68302D90>"
      ]
     },
     "metadata": {},
     "output_type": "display_data"
    }
   ],
   "source": [
    "#display prediction ?? - Alex\n"
   ]
  }
 ],
 "metadata": {
  "kernelspec": {
   "display_name": "Python 3 (ipykernel)",
   "language": "python",
   "name": "python3"
  },
  "language_info": {
   "codemirror_mode": {
    "name": "ipython",
    "version": 3
   },
   "file_extension": ".py",
   "mimetype": "text/x-python",
   "name": "python",
   "nbconvert_exporter": "python",
   "pygments_lexer": "ipython3",
   "version": "3.8.12"
  }
 },
 "nbformat": 4,
 "nbformat_minor": 5
}
